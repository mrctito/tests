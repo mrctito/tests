{
 "cells": [
  {
   "cell_type": "code",
   "execution_count": 1,
   "id": "4575196c-dc93-47ad-9506-c9480a26e56d",
   "metadata": {},
   "outputs": [],
   "source": [
    "#pip install --upgrade -q openai langchain langchain-openai langchain-community langgraph"
   ]
  },
  {
   "cell_type": "code",
   "execution_count": 1,
   "id": "54a8c8a3-18de-4da5-9f9b-56366c4b0b3d",
   "metadata": {},
   "outputs": [],
   "source": [
    "import os\n",
    "from dotenv import load_dotenv\n",
    "from langchain_core.messages import AIMessage, BaseMessage, HumanMessage\n",
    "from langchain_core.prompts import ChatPromptTemplate, MessagesPlaceholder\n",
    "from langchain_openai import ChatOpenAI\n",
    "from langchain_core.tools import Tool, tool\n",
    "from typing import List\n",
    "import requests\n",
    "import json\n",
    "from datetime import date\n",
    "import os\n",
    "import select\n",
    "from datetime import datetime\n",
    "from textwrap import dedent\n",
    "from typing import Dict, List, Optional, TypeVar, Union\n",
    "from typing import List, Optional\n",
    "from pydantic import BaseModel, Field\n",
    "from pydantic import ValidationError\n",
    "from typing import Annotated, Any, Dict, List, Literal, Optional, TypedDict, TypeVar, Union\n",
    "from IPython.display import Image, display\n",
    "from langchain_core.messages import AIMessage, ToolMessage\n",
    "from langchain_core.runnables import Runnable, RunnableConfig, RunnableLambda\n",
    "from langchain_core.utils.function_calling import convert_to_openai_tool\n",
    "from langgraph.graph.message import AnyMessage, add_messages\n",
    "from langgraph.prebuilt import ToolNode\n",
    "from langgraph.graph import END, START, StateGraph\n",
    "from langgraph.graph import MessagesState\n",
    "from langgraph.prebuilt.tool_node import ToolNode, tools_condition\n",
    "from langgraph.checkpoint.memory import MemorySaver\n",
    "import sys\n",
    "import uuid\n",
    "from pprint import pprint"
   ]
  },
  {
   "cell_type": "code",
   "execution_count": 2,
   "id": "31a69ec9-d1b9-41c0-beb2-87adeac6d5b9",
   "metadata": {},
   "outputs": [
    {
     "data": {
      "text/plain": [
       "True"
      ]
     },
     "execution_count": 2,
     "metadata": {},
     "output_type": "execute_result"
    }
   ],
   "source": [
    "load_dotenv()"
   ]
  },
  {
   "cell_type": "code",
   "execution_count": 3,
   "id": "151ea814-bd73-40d5-a7d1-681242883235",
   "metadata": {},
   "outputs": [],
   "source": [
    "OPENAI_MODEL = \"gpt-4o-mini\"\n",
    "OPENAI_API_KEY = os.getenv(\"OPENAI_API_KEY\")"
   ]
  },
  {
   "cell_type": "code",
   "execution_count": 4,
   "id": "f2922bee-9f9e-4274-8486-4db3401ad1fb",
   "metadata": {},
   "outputs": [],
   "source": [
    "def login():\n",
    "    USUARIO = os.getenv(\"USUARIO\")\n",
    "    SENHA = os.getenv(\"SENHA\")\n",
    "    APP_VERSION = os.getenv(\"APP_VERSION\")\n",
    "    PARTNER_ID = os.getenv(\"PARTNER_ID\")\n",
    "    URL_BASE = os.getenv(\"URL_BASE\")\n",
    "\n",
    "    url = f\"{URL_BASE}/ecommerce/authentication\"\n",
    "    \n",
    "    payload = json.dumps({\n",
    "        \"username\": USUARIO,\n",
    "        \"password\": SENHA\n",
    "    })\n",
    "\n",
    "    headers = {\n",
    "        \"appversion\": f\"{APP_VERSION}\",\n",
    "        \"Content-Type\": \"application/json\",\n",
    "    }\n",
    "\n",
    "    try:\n",
    "        response = requests.post(url, data=payload, headers=headers)\n",
    "        response.raise_for_status()  \n",
    "        return response.json().get(\"token\")\n",
    "    except Exception as e:\n",
    "        msg = f\"Erro ao autenticar: {str(e)}\"\n",
    "        raise Exception(msg)"
   ]
  },
  {
   "cell_type": "code",
   "execution_count": 5,
   "id": "417818b5-7f68-4fbf-a8ef-49ad109e6275",
   "metadata": {},
   "outputs": [
    {
     "name": "stdout",
     "output_type": "stream",
     "text": [
      "Login OK!!!\n"
     ]
    }
   ],
   "source": [
    "token = login()\n",
    "print(\"Login OK!!!\")"
   ]
  },
  {
   "cell_type": "code",
   "execution_count": 35,
   "id": "1eb43dd8-deb3-4b45-8ffd-7a97194f0c87",
   "metadata": {},
   "outputs": [],
   "source": [
    "def pesquisar_produtos(lista_produtos: List[str]) -> List[dict]:\n",
    "    USUARIO = os.getenv(\"USUARIO\")\n",
    "    SENHA = os.getenv(\"SENHA\")\n",
    "    APP_VERSION = os.getenv(\"APP_VERSION\")\n",
    "    PARTNER_ID = os.getenv(\"PARTNER_ID\")\n",
    "    URL_BASE = os.getenv(\"URL_BASE\")\n",
    "\n",
    "    token = login()\n",
    "    \n",
    "    url_base = f\"{URL_BASE}/ecommerce/purchase/search/_produto_?page=0&size={5}\"\n",
    "    product_list = []\n",
    "\n",
    "    for produto in lista_produtos:\n",
    "        produto = produto.replace(' ', '%20')\n",
    "        url = url_base.replace(\"_produto_\", produto)\n",
    "\n",
    "        headers = {\n",
    "            'appversion': f'{APP_VERSION}',\n",
    "            'handlerpartner': f'{PARTNER_ID}',\n",
    "            'Authorization': f'Bearer {token}'\n",
    "        }\n",
    "\n",
    "        response = requests.get(url, headers=headers)\n",
    "        response.raise_for_status()\n",
    "        return response.json()\n"
   ]
  },
  {
   "cell_type": "code",
   "execution_count": 36,
   "id": "f88c7984-a4b0-422d-9456-c85bcf001241",
   "metadata": {},
   "outputs": [],
   "source": [
    "#print(pesquisar_produtos([\"sobrecoxa\"]))"
   ]
  },
  {
   "cell_type": "code",
   "execution_count": 37,
   "id": "02237544-9c0f-49b3-97a1-b482d3417d12",
   "metadata": {},
   "outputs": [],
   "source": [
    "@tool\n",
    "def tool_pesquisa_produto(lista_produtos: List[str]):\n",
    "    \"\"\"\n",
    "    Útil para pesquisar informações, preços ou disponibilidade de produtos.\n",
    "\n",
    "    Args:\n",
    "    - lista_produtos: Lista de produtos para pesquisar. Ex: [\"batata doce\", \"miolo de alcatra\"]\n",
    "\n",
    "    Exemplos:\n",
    "    - qual o preço do miolo de alcatra e da batata doce?\n",
    "    - quanto custa a picanha e a costela bovina?\n",
    "    \"\"\"\n",
    "    print(\"\\n***\\n\")\n",
    "    print(lista_produtos)\n",
    "    print(\"\\n***\\n\")\n",
    "    resultado = pesquisar_produtos(lista_produtos)\n",
    "    print(\"\\n***\\n\")\n",
    "    return resultado\n",
    "    print(\"\\n***\\n\")"
   ]
  },
  {
   "cell_type": "code",
   "execution_count": 83,
   "id": "47ff3e02-a77f-46ad-b469-76082e122347",
   "metadata": {},
   "outputs": [],
   "source": [
    "@tool\n",
    "def tool_informa_sobre_clima(data: str):\n",
    "    \"\"\"\n",
    "    Útil para informar sobre o clima\n",
    "    \"\"\"\n",
    "    print(\"\\n***\\n\")\n",
    "    print(data)\n",
    "    print(\"\\n***\\n\")\n",
    "    return f\"Em {data} o clima está bom!\""
   ]
  },
  {
   "cell_type": "code",
   "execution_count": 84,
   "id": "5d137cd5-3f95-46a4-9ea3-554ea18c26a7",
   "metadata": {},
   "outputs": [],
   "source": [
    "#pergunta = \"qual o preço do lombinho e da lasanha de presunto e queijo?\"\n",
    "#pergunta = \"qual será o clima amanhã?\"\n",
    "pergunta = \"qual dia da semana será o carnaval 2025\""
   ]
  },
  {
   "cell_type": "code",
   "execution_count": 107,
   "id": "1f903345-cfb8-4f0a-9bc0-f056fad054c9",
   "metadata": {},
   "outputs": [],
   "source": [
    "tools = []\n",
    "tools.append(tool_pesquisa_produto)\n",
    "tools.append(tool_informa_sobre_clima)\n",
    "tool_node = ToolNode(tools)"
   ]
  },
  {
   "cell_type": "code",
   "execution_count": 108,
   "id": "042f4c69-646a-40c5-97ca-43f39db25d05",
   "metadata": {},
   "outputs": [],
   "source": [
    "llm = ChatOpenAI(model=OPENAI_MODEL,\n",
    "                 api_key=OPENAI_API_KEY,\n",
    "                 temperature=0.7,\n",
    "                 verbose=True)"
   ]
  },
  {
   "cell_type": "code",
   "execution_count": 109,
   "id": "5d43aac1-1ce6-454e-b135-3196d71472c5",
   "metadata": {},
   "outputs": [],
   "source": [
    "llm_with_tools = llm.bind_tools(tools, parallel_tool_calls=False)"
   ]
  },
  {
   "cell_type": "code",
   "execution_count": 110,
   "id": "28cca53e-dfc2-433f-892e-4e8dc2910255",
   "metadata": {},
   "outputs": [],
   "source": [
    "prompt_str_restrito = dedent(\"\"\"\n",
    "Responda a pergunta abaixo APENAS com base nas ferramentas e no contexto fornecido.\n",
    "Em hipótese alguma consulte sua base de conhecimento.\n",
    "Se você não tiver dados suficientes no contexto, diga: não sei responder.\n",
    "\n",
    "Contexto: Hoje é: 10/01/2025\n",
    "Solicitação do cliente: {input}\n",
    "\"\"\")"
   ]
  },
  {
   "cell_type": "code",
   "execution_count": 111,
   "id": "84fab235-3886-4628-8d5b-72676ccff02c",
   "metadata": {},
   "outputs": [],
   "source": [
    "prompt_str_liberado = dedent(\"\"\"\n",
    "Responda a pergunta abaixo.\n",
    "\n",
    "Contexto: Hoje é: 10/01/2025\n",
    "Solicitação do cliente: {input}\n",
    "\"\"\")"
   ]
  },
  {
   "cell_type": "code",
   "execution_count": 112,
   "id": "b10dae95-3410-49e5-a2f1-5ba6b3351256",
   "metadata": {},
   "outputs": [],
   "source": [
    "prompt_str = prompt_str_restrito"
   ]
  },
  {
   "cell_type": "code",
   "execution_count": 113,
   "id": "b6e5ef99-e616-4a7d-87fa-3311d310692a",
   "metadata": {},
   "outputs": [],
   "source": [
    "assistant_prompt = ChatPromptTemplate.from_messages(\n",
    "        [\n",
    "            (\"system\", prompt_str),\n",
    "            (\"human\", \"{input}\"),\n",
    "            (\"placeholder\", \"{messages}\"),\n",
    "        ]\n",
    "    )\n",
    "model = assistant_prompt | llm_with_tools"
   ]
  },
  {
   "cell_type": "code",
   "execution_count": 101,
   "id": "6a2ec281-ffb5-4f0f-8a29-edd448b09d2a",
   "metadata": {},
   "outputs": [],
   "source": [
    "contexto = {\n",
    "    \"messages\": [HumanMessage(content=pergunta)],\n",
    "    \"input\": pergunta,\n",
    "}"
   ]
  },
  {
   "cell_type": "code",
   "execution_count": 102,
   "id": "bb418293-b2e1-443d-9dac-ff94c0afcc5b",
   "metadata": {},
   "outputs": [],
   "source": [
    "class Assistant:\n",
    "    def __init__(self, runnable: Runnable):\n",
    "        # Initialize with the runnable that defines the process for interacting with the tools\n",
    "        self.runnable = runnable\n",
    "\n",
    "    def __call__(self, state: MessagesState):\n",
    "        while True:\n",
    "            messages = state[\"messages\"]\n",
    "            last_message = messages[-1]\n",
    "            result = self.runnable.invoke(messages)\n",
    "            \n",
    "            if not result.tool_calls and (\n",
    "                not result.content\n",
    "                or isinstance(result.content, list)\n",
    "                and not result.content[0].get(\"text\")\n",
    "            ):\n",
    "                messages = state[\"messages\"] + [(\"user\", \"Respond with a real output.\")]\n",
    "                state = {**state, \"messages\": messages}\n",
    "            else:\n",
    "                break\n",
    "        return {\"messages\": [result]}"
   ]
  },
  {
   "cell_type": "code",
   "execution_count": 103,
   "id": "ebe33289-392b-484c-8802-37350783418e",
   "metadata": {},
   "outputs": [
    {
     "data": {
      "text/plain": [
       "<langgraph.graph.state.StateGraph at 0x1faf0cd0050>"
      ]
     },
     "execution_count": 103,
     "metadata": {},
     "output_type": "execute_result"
    }
   ],
   "source": [
    "builder = StateGraph(MessagesState)\n",
    "builder.add_node(\"assistant\", Assistant(model))\n",
    "builder.add_node(\"tools\", tool_node)\n",
    "builder.add_edge(START, \"assistant\")\n",
    "builder.add_conditional_edges(\"assistant\", tools_condition)"
   ]
  },
  {
   "cell_type": "code",
   "execution_count": 104,
   "id": "f767cba5-15da-41fc-91a5-3cf635c468c2",
   "metadata": {},
   "outputs": [],
   "source": [
    "memory = MemorySaver()\n",
    "graph = builder.compile(checkpointer=memory)"
   ]
  },
  {
   "cell_type": "code",
   "execution_count": 105,
   "id": "ae69880a-9cc6-40ef-8436-a012aa6cc830",
   "metadata": {},
   "outputs": [],
   "source": [
    "config = {\"configurable\": {\"thread_id\": \"1\"}, \"contexto\": contexto}"
   ]
  },
  {
   "cell_type": "code",
   "execution_count": 106,
   "id": "06b601f6-ffca-4b23-a68d-a0520da4df6c",
   "metadata": {},
   "outputs": [
    {
     "name": "stdout",
     "output_type": "stream",
     "text": [
      "\u001b[36;1m\u001b[1;3m[-1:checkpoint]\u001b[0m \u001b[1mState at the end of step -1:\n",
      "\u001b[0m{'messages': []}\n",
      "\u001b[36;1m\u001b[1;3m[0:tasks]\u001b[0m \u001b[1mStarting 1 task for step 0:\n",
      "\u001b[0m- \u001b[32;1m\u001b[1;3m__start__\u001b[0m -> {'input': 'qual dia da semana será o carnaval 2025',\n",
      " 'messages': [HumanMessage(content='qual dia da semana será o carnaval 2025', additional_kwargs={}, response_metadata={})]}\n",
      "\u001b[36;1m\u001b[1;3m[0:writes]\u001b[0m \u001b[1mFinished step 0 with writes to 1 channel:\n",
      "\u001b[0m- \u001b[33;1m\u001b[1;3mmessages\u001b[0m -> [HumanMessage(content='qual dia da semana será o carnaval 2025', additional_kwargs={}, response_metadata={})]\n",
      "\u001b[36;1m\u001b[1;3m[0:checkpoint]\u001b[0m \u001b[1mState at the end of step 0:\n",
      "\u001b[0m{'messages': [HumanMessage(content='qual dia da semana será o carnaval 2025', additional_kwargs={}, response_metadata={}, id='6fab32c5-65c7-4cd1-ab82-284ce765a116')]}\n",
      "\u001b[36;1m\u001b[1;3m[1:tasks]\u001b[0m \u001b[1mStarting 1 task for step 1:\n",
      "\u001b[0m- \u001b[32;1m\u001b[1;3massistant\u001b[0m -> {'messages': [HumanMessage(content='qual dia da semana será o carnaval 2025', additional_kwargs={}, response_metadata={}, id='6fab32c5-65c7-4cd1-ab82-284ce765a116')]}\n",
      "\u001b[36;1m\u001b[1;3m[1:writes]\u001b[0m \u001b[1mFinished step 1 with writes to 1 channel:\n",
      "\u001b[0m- \u001b[33;1m\u001b[1;3mmessages\u001b[0m -> [AIMessage(content='O Carnaval de 2025 será celebrado no dia 4 de março, que é uma terça-feira.', additional_kwargs={'refusal': None}, response_metadata={'token_usage': {'completion_tokens': 22, 'prompt_tokens': 336, 'total_tokens': 358, 'completion_tokens_details': {'accepted_prediction_tokens': 0, 'audio_tokens': 0, 'reasoning_tokens': 0, 'rejected_prediction_tokens': 0}, 'prompt_tokens_details': {'audio_tokens': 0, 'cached_tokens': 0}}, 'model_name': 'gpt-4o-mini-2024-07-18', 'system_fingerprint': 'fp_72ed7ab54c', 'finish_reason': 'stop', 'logprobs': None}, id='run-9146ab3a-57ee-4954-89d7-51e830334b46-0', usage_metadata={'input_tokens': 336, 'output_tokens': 22, 'total_tokens': 358, 'input_token_details': {'audio': 0, 'cache_read': 0}, 'output_token_details': {'audio': 0, 'reasoning': 0}})]\n",
      "\u001b[36;1m\u001b[1;3m[1:checkpoint]\u001b[0m \u001b[1mState at the end of step 1:\n",
      "\u001b[0m{'messages': [HumanMessage(content='qual dia da semana será o carnaval 2025', additional_kwargs={}, response_metadata={}, id='6fab32c5-65c7-4cd1-ab82-284ce765a116'),\n",
      "              AIMessage(content='O Carnaval de 2025 será celebrado no dia 4 de março, que é uma terça-feira.', additional_kwargs={'refusal': None}, response_metadata={'token_usage': {'completion_tokens': 22, 'prompt_tokens': 336, 'total_tokens': 358, 'completion_tokens_details': {'accepted_prediction_tokens': 0, 'audio_tokens': 0, 'reasoning_tokens': 0, 'rejected_prediction_tokens': 0}, 'prompt_tokens_details': {'audio_tokens': 0, 'cached_tokens': 0}}, 'model_name': 'gpt-4o-mini-2024-07-18', 'system_fingerprint': 'fp_72ed7ab54c', 'finish_reason': 'stop', 'logprobs': None}, id='run-9146ab3a-57ee-4954-89d7-51e830334b46-0', usage_metadata={'input_tokens': 336, 'output_tokens': 22, 'total_tokens': 358, 'input_token_details': {'audio': 0, 'cache_read': 0}, 'output_token_details': {'audio': 0, 'reasoning': 0}})]}\n",
      "\n",
      "\n",
      "***\n",
      "\n",
      "\n",
      "{'messages': [HumanMessage(content='qual dia da semana será o carnaval 2025', additional_kwargs={}, response_metadata={}, id='6fab32c5-65c7-4cd1-ab82-284ce765a116'), AIMessage(content='O Carnaval de 2025 será celebrado no dia 4 de março, que é uma terça-feira.', additional_kwargs={'refusal': None}, response_metadata={'token_usage': {'completion_tokens': 22, 'prompt_tokens': 336, 'total_tokens': 358, 'completion_tokens_details': {'accepted_prediction_tokens': 0, 'audio_tokens': 0, 'reasoning_tokens': 0, 'rejected_prediction_tokens': 0}, 'prompt_tokens_details': {'audio_tokens': 0, 'cached_tokens': 0}}, 'model_name': 'gpt-4o-mini-2024-07-18', 'system_fingerprint': 'fp_72ed7ab54c', 'finish_reason': 'stop', 'logprobs': None}, id='run-9146ab3a-57ee-4954-89d7-51e830334b46-0', usage_metadata={'input_tokens': 336, 'output_tokens': 22, 'total_tokens': 358, 'input_token_details': {'audio': 0, 'cache_read': 0}, 'output_token_details': {'audio': 0, 'reasoning': 0}})]}\n",
      "\n",
      "\n",
      "***\n",
      "\n",
      "\n",
      "O Carnaval de 2025 será celebrado no dia 4 de março, que é uma terça-feira.\n",
      "\n",
      "\n",
      "***\n",
      "\n",
      "\n"
     ]
    }
   ],
   "source": [
    "result = await graph.ainvoke(contexto, config, debug=True)\n",
    "answer = result[\"messages\"][-1].content\n",
    "print(\"\\n\\n***\\n\\n\")\n",
    "print(result)\n",
    "print(\"\\n\\n***\\n\\n\")\n",
    "print(answer)\n",
    "print(\"\\n\\n***\\n\\n\")"
   ]
  },
  {
   "cell_type": "code",
   "execution_count": null,
   "id": "6b9b7582-60c8-4d24-adcb-434e54e84e63",
   "metadata": {},
   "outputs": [],
   "source": []
  },
  {
   "cell_type": "code",
   "execution_count": null,
   "id": "ef21dd19-0319-4dce-902f-8660ced5943d",
   "metadata": {},
   "outputs": [],
   "source": []
  },
  {
   "cell_type": "code",
   "execution_count": null,
   "id": "dcf8385b-e73a-404e-80eb-4c88057fb4a7",
   "metadata": {},
   "outputs": [],
   "source": []
  },
  {
   "cell_type": "code",
   "execution_count": null,
   "id": "e32179ee-efbd-4f03-96e1-7607ca4ecd28",
   "metadata": {},
   "outputs": [],
   "source": []
  }
 ],
 "metadata": {
  "kernelspec": {
   "display_name": "Python 3 (ipykernel)",
   "language": "python",
   "name": "python3"
  },
  "language_info": {
   "codemirror_mode": {
    "name": "ipython",
    "version": 3
   },
   "file_extension": ".py",
   "mimetype": "text/x-python",
   "name": "python",
   "nbconvert_exporter": "python",
   "pygments_lexer": "ipython3",
   "version": "3.13.1"
  }
 },
 "nbformat": 4,
 "nbformat_minor": 5
}
