{
 "cells": [
  {
   "cell_type": "code",
   "execution_count": 1,
   "id": "4575196c-dc93-47ad-9506-c9480a26e56d",
   "metadata": {},
   "outputs": [],
   "source": [
    "#pip install --upgrade -q openai langchain langchain-openai langchain-community langgraph"
   ]
  },
  {
   "cell_type": "code",
   "execution_count": 109,
   "id": "54a8c8a3-18de-4da5-9f9b-56366c4b0b3d",
   "metadata": {},
   "outputs": [],
   "source": [
    "import os\n",
    "from dotenv import load_dotenv\n",
    "from langchain_core.messages import AIMessage, BaseMessage, HumanMessage\n",
    "from langchain_core.prompts import ChatPromptTemplate, MessagesPlaceholder\n",
    "from langchain_openai import ChatOpenAI\n",
    "from langchain_core.tools import Tool, tool\n",
    "from typing import List\n",
    "import requests\n",
    "import json\n",
    "import os\n",
    "import select\n",
    "from datetime import datetime\n",
    "from textwrap import dedent\n",
    "from typing import Dict, List, Optional, TypeVar, Union\n",
    "from typing import List, Optional\n",
    "from pydantic import BaseModel, Field\n",
    "from pydantic import ValidationError\n",
    "from typing import Annotated, Any, Dict, List, Literal, Optional, TypedDict, TypeVar, Union\n",
    "from IPython.display import Image, display\n",
    "from langchain_core.messages import AIMessage, ToolMessage\n",
    "from langchain_core.runnables import Runnable, RunnableConfig, RunnableLambda\n",
    "from langchain_core.utils.function_calling import convert_to_openai_tool\n",
    "from langgraph.graph.message import AnyMessage, add_messages\n",
    "from langgraph.prebuilt import ToolNode\n",
    "from langgraph.graph import END, START, StateGraph\n",
    "from langgraph.graph import MessagesState\n",
    "from langgraph.prebuilt.tool_node import ToolNode, tools_condition\n",
    "from langgraph.checkpoint.memory import MemorySaver\n",
    "import sys\n",
    "import uuid\n",
    "from pprint import pprint"
   ]
  },
  {
   "cell_type": "code",
   "execution_count": 110,
   "id": "31a69ec9-d1b9-41c0-beb2-87adeac6d5b9",
   "metadata": {},
   "outputs": [
    {
     "data": {
      "text/plain": [
       "True"
      ]
     },
     "execution_count": 110,
     "metadata": {},
     "output_type": "execute_result"
    }
   ],
   "source": [
    "load_dotenv()"
   ]
  },
  {
   "cell_type": "code",
   "execution_count": 111,
   "id": "151ea814-bd73-40d5-a7d1-681242883235",
   "metadata": {},
   "outputs": [],
   "source": [
    "OPENAI_MODEL = \"gpt-4o-mini\"\n",
    "OPENAI_API_KEY = os.getenv(\"OPENAI_API_KEY\")"
   ]
  },
  {
   "cell_type": "code",
   "execution_count": 112,
   "id": "f2922bee-9f9e-4274-8486-4db3401ad1fb",
   "metadata": {},
   "outputs": [],
   "source": [
    "def login():\n",
    "    USUARIO = os.getenv(\"USUARIO\")\n",
    "    SENHA = os.getenv(\"SENHA\")\n",
    "    APP_VERSION = os.getenv(\"APP_VERSION\")\n",
    "    PARTNER_ID = os.getenv(\"PARTNER_ID\")\n",
    "    URL_BASE = os.getenv(\"URL_BASE\")\n",
    "\n",
    "    url = f\"{URL_BASE}/ecommerce/authentication\"\n",
    "    \n",
    "    payload = json.dumps({\n",
    "        \"username\": USUARIO,\n",
    "        \"password\": SENHA\n",
    "    })\n",
    "\n",
    "    headers = {\n",
    "        \"appversion\": f\"{APP_VERSION}\",\n",
    "        \"Content-Type\": \"application/json\",\n",
    "    }\n",
    "\n",
    "    try:\n",
    "        response = requests.post(url, data=payload, headers=headers)\n",
    "        response.raise_for_status()  \n",
    "        return response.json().get(\"token\")\n",
    "    except Exception as e:\n",
    "        msg = f\"Erro ao autenticar: {str(e)}\"\n",
    "        raise Exception(msg)"
   ]
  },
  {
   "cell_type": "code",
   "execution_count": 113,
   "id": "417818b5-7f68-4fbf-a8ef-49ad109e6275",
   "metadata": {},
   "outputs": [
    {
     "name": "stdout",
     "output_type": "stream",
     "text": [
      "Login OK!!!\n"
     ]
    }
   ],
   "source": [
    "token = login()\n",
    "print(\"Login OK!!!\")"
   ]
  },
  {
   "cell_type": "code",
   "execution_count": 114,
   "id": "1eb43dd8-deb3-4b45-8ffd-7a97194f0c87",
   "metadata": {},
   "outputs": [],
   "source": [
    "def pesquisar_produtos(lista_produtos: List[str]) -> List[dict]:\n",
    "    USUARIO = os.getenv(\"USUARIO\")\n",
    "    SENHA = os.getenv(\"SENHA\")\n",
    "    APP_VERSION = os.getenv(\"APP_VERSION\")\n",
    "    PARTNER_ID = os.getenv(\"PARTNER_ID\")\n",
    "    URL_BASE = os.getenv(\"URL_BASE\")\n",
    "\n",
    "    token = login()\n",
    "    \n",
    "    url_base = f\"{URL_BASE}/ecommerce/purchase/search/_produto_?page=0&size={5}\"\n",
    "    product_list = []\n",
    "\n",
    "    for produto in lista_produtos:\n",
    "        produto = produto.replace(' ', '%20')\n",
    "        url = url_base.replace(\"_produto_\", produto)\n",
    "\n",
    "        headers = {\n",
    "            'appversion': f'{APP_VERSION}',\n",
    "            'handlerpartner': f'{PARTNER_ID}',\n",
    "            'Authorization': f'Bearer {token}'\n",
    "        }\n",
    "\n",
    "        response = requests.get(url, headers=headers)\n",
    "        response.raise_for_status()\n",
    "        return response.json()\n"
   ]
  },
  {
   "cell_type": "code",
   "execution_count": 115,
   "id": "f88c7984-a4b0-422d-9456-c85bcf001241",
   "metadata": {},
   "outputs": [
    {
     "name": "stdout",
     "output_type": "stream",
     "text": [
      "{'page': {'page': 0, 'items': [{'product': {'id': '790931cf-c732-4f16-9e3a-066e5c0e61e0', 'code': '97210', 'skuEcommerce': None, 'family': {'id': '0ae5dae8-a3b6-4d8a-b64f-dceb85a16a85', 'type': 'FAMILY', 'name': 'COXA COM SOBRECOXA DE FRANGO PACOTE +/- 1KG CONGELADO'}, 'brand': {'id': '88067550-ff12-48a0-8a71-2439a47b9f8d', 'type': 'BRAND', 'name': 'CANCAO'}, 'validity': '2025-12-09', 'price': {'salesPrice': 9.34, 'price': 9.34, 'promotions': []}, 'available': None, 'deleted': False, 'medias': ['https://segalas-ecommerce-medias.s3.sa-east-1.amazonaws.com/produtos/97210.jpg'], 'characteristics': ['CONGELADO', 'INDIVIDUAL'], 'packages': [{'id': '5a7a1473-f5d7-4dff-a6df-f140d5a3b784', 'description': 'CX 18KG', 'label': '18x1Kg', 'weight': 18.0, 'unities': 18.0, 'salesUnitMultiplier': 18.0, 'packageType': 'BOX', 'deleted': False}], 'salesUnit': 'KG', 'isFefo': False}, 'canDelete': None, 'hasHistoric': True, 'favorite': False, 'lastOrder': {'date': '2024-11-25', 'packaging': 'CX 18KG', 'quantity': 3.0, 'unitType': 'BOX'}, 'cartItem': None, 'customerProductSection': {'id': '00b8778c-28f9-488a-8c8d-803eec986eb5', 'type': 'PRODUCT_SECTION', 'name': 'Padaria'}, 'selectedPackageId': '5a7a1473-f5d7-4dff-a6df-f140d5a3b784', 'suggestedQuantity': 1.0, 'unit': None, 'quantity': 0.0}, {'product': {'id': '00147d5e-471f-4251-80d5-2e9c19675154', 'code': '95345', 'skuEcommerce': None, 'family': {'id': '0ee72cce-1501-4202-9a9b-fa6ee7403fe2', 'type': 'FAMILY', 'name': 'FILE DE COXA COM SOBRECOXA DE FRANGO SEM OSSO E COM PELE INTERFOLIADO CONGELADO'}, 'brand': {'id': '6b043a6d-dc1c-4fd8-95df-91c79eb17ed2', 'type': 'BRAND', 'name': 'DIPLOMATA'}, 'validity': '2025-11-20', 'price': {'salesPrice': 12.99, 'price': 12.99, 'promotions': []}, 'available': None, 'deleted': False, 'medias': ['https://segalas-ecommerce-medias.s3.sa-east-1.amazonaws.com/produtos/95345.jpg'], 'characteristics': ['CONGELADO', 'C/PELE'], 'packages': [{'id': '482874a8-c621-4561-a12b-a2262e88206d', 'description': 'CX 18KG', 'label': '18x1Kg', 'weight': 18.0, 'unities': 18.0, 'salesUnitMultiplier': 18.0, 'packageType': 'BOX', 'deleted': False}], 'salesUnit': 'KG', 'isFefo': False}, 'canDelete': None, 'hasHistoric': True, 'favorite': True, 'lastOrder': {'date': '2024-09-23', 'packaging': 'CX 18KG', 'quantity': 3.0, 'unitType': 'BOX'}, 'cartItem': None, 'customerProductSection': {'id': '33f8778c-28f9-488a-8c8d-803eec986eb5', 'type': 'PRODUCT_SECTION', 'name': 'Ilha'}, 'selectedPackageId': '482874a8-c621-4561-a12b-a2262e88206d', 'suggestedQuantity': 1.0, 'unit': None, 'quantity': 0.0}, {'product': {'id': '571e8fc3-d3d9-4a1c-9bd2-e710f5827fe5', 'code': '106447', 'skuEcommerce': None, 'family': {'id': '7c11ef4f-c2f3-4369-84e0-04bd25f75a8d', 'type': 'FAMILY', 'name': 'FILE DE COXA COM SOBRECOXA DE FRANGO SEM OSSO E COM PELE PACOTE IQF 1KG CONGELADO'}, 'brand': {'id': '62c4ff51-3a12-40e5-af0c-5ee3ec2e6e43', 'type': 'BRAND', 'name': 'C VALE'}, 'validity': '2025-11-12', 'price': {'salesPrice': 16.35, 'price': 16.35, 'promotions': []}, 'available': None, 'deleted': False, 'medias': ['https://segalas-ecommerce-medias.s3.sa-east-1.amazonaws.com/produtos/106447.jpg'], 'characteristics': ['C/PELE', 'IQF'], 'packages': [{'id': '6f6cb83e-c7ae-4861-b804-c57f05544653', 'description': 'CX 15KG', 'label': '15x1Kg', 'weight': 15.0, 'unities': 15.0, 'salesUnitMultiplier': 15.0, 'packageType': 'BOX', 'deleted': False}], 'salesUnit': 'KG', 'isFefo': False}, 'canDelete': None, 'hasHistoric': True, 'favorite': False, 'lastOrder': {'date': '2024-09-23', 'packaging': 'CX 15KG', 'quantity': 1.0, 'unitType': 'BOX'}, 'cartItem': None, 'customerProductSection': None, 'selectedPackageId': '6f6cb83e-c7ae-4861-b804-c57f05544653', 'suggestedQuantity': 1.0, 'unit': None, 'quantity': 0.0}, {'product': {'id': '7ff16197-1505-45b4-b6e5-2b187dfd74d1', 'code': '38', 'skuEcommerce': None, 'family': {'id': '0ee72cce-1501-4202-9a9b-fa6ee7403fe2', 'type': 'FAMILY', 'name': 'FILE DE COXA COM SOBRECOXA DE FRANGO SEM OSSO E COM PELE INTERFOLIADO CONGELADO'}, 'brand': {'id': '62c4ff51-3a12-40e5-af0c-5ee3ec2e6e43', 'type': 'BRAND', 'name': 'C VALE'}, 'validity': '2025-11-25', 'price': {'salesPrice': 12.45, 'price': 12.45, 'promotions': []}, 'available': None, 'deleted': False, 'medias': ['https://segalas-ecommerce-medias.s3.sa-east-1.amazonaws.com/produtos/38.jpg'], 'characteristics': ['CONGELADO', 'C/PELE'], 'packages': [{'id': '5a9a17df-55f8-4f9a-93fe-5c96902282ec', 'description': 'CX 18KG', 'label': '18x1Kg', 'weight': 18.0, 'unities': 18.0, 'salesUnitMultiplier': 18.0, 'packageType': 'BOX', 'deleted': False}], 'salesUnit': 'KG', 'isFefo': False}, 'canDelete': None, 'hasHistoric': True, 'favorite': False, 'lastOrder': {'date': '2024-09-16', 'packaging': 'CX 18KG', 'quantity': 5.0, 'unitType': 'BOX'}, 'cartItem': None, 'customerProductSection': {'id': '33f8778c-28f9-488a-8c8d-803eec986eb5', 'type': 'PRODUCT_SECTION', 'name': 'Ilha'}, 'selectedPackageId': '5a9a17df-55f8-4f9a-93fe-5c96902282ec', 'suggestedQuantity': 1.0, 'unit': None, 'quantity': 0.0}, {'product': {'id': '26ca5a1e-1124-4372-8891-852b6a674fb8', 'code': '17', 'skuEcommerce': None, 'family': {'id': '0ae5dae8-a3b6-4d8a-b64f-dceb85a16a85', 'type': 'FAMILY', 'name': 'COXA COM SOBRECOXA DE FRANGO PACOTE +/- 1KG CONGELADO'}, 'brand': {'id': '62c4ff51-3a12-40e5-af0c-5ee3ec2e6e43', 'type': 'BRAND', 'name': 'C VALE'}, 'validity': '2025-12-25', 'price': {'salesPrice': 8.78, 'price': 8.78, 'promotions': []}, 'available': None, 'deleted': False, 'medias': ['https://segalas-ecommerce-medias.s3.sa-east-1.amazonaws.com/produtos/17.jpg'], 'characteristics': ['CONGELADO', 'INDIVIDUAL'], 'packages': [{'id': '13ffceb6-8295-4129-872d-811fcd12cb54', 'description': 'CX 18KG', 'label': '18x1Kg', 'weight': 18.0, 'unities': 18.0, 'salesUnitMultiplier': 18.0, 'packageType': 'BOX', 'deleted': False}], 'salesUnit': 'KG', 'isFefo': False}, 'canDelete': None, 'hasHistoric': True, 'favorite': False, 'lastOrder': {'date': '2024-08-19', 'packaging': 'CX 18KG', 'quantity': 5.0, 'unitType': 'BOX'}, 'cartItem': None, 'customerProductSection': {'id': '00b8778c-28f9-488a-8c8d-803eec986eb5', 'type': 'PRODUCT_SECTION', 'name': 'Padaria'}, 'selectedPackageId': '13ffceb6-8295-4129-872d-811fcd12cb54', 'suggestedQuantity': 1.0, 'unit': None, 'quantity': 0.0}], 'totalElements': 20, 'totalPages': 4, 'lastPage': False}, 'filters': [{'id': '1c64e173-c9cc-44a0-a862-979018c99302', 'type': 'CHARACTERISTIC', 'name': 'S/OSSO'}, {'id': '6760c95d-fc37-4529-bcde-7edb574662fb', 'type': 'CHARACTERISTIC', 'name': 'INTEIRO'}, {'id': '689c89e4-611c-4f5a-83bd-7ea568ea6d14', 'type': 'CHARACTERISTIC', 'name': 'C/PELE'}, {'id': '70226f8c-337e-4e71-93f0-fcb568667f98', 'type': 'CHARACTERISTIC', 'name': 'CONGELADO'}, {'id': '7457fa98-adc7-4362-818a-abb85f4d6749', 'type': 'CHARACTERISTIC', 'name': 'ALMOFADADO'}, {'id': '781e78e2-43cf-4559-8e39-e930765dbc85', 'type': 'CHARACTERISTIC', 'name': 'PACOTE'}, {'id': '7f7c2dfd-5c2e-4536-a8c2-516b9e21bbd2', 'type': 'CHARACTERISTIC', 'name': 'INDIVIDUAL'}, {'id': '80a2fd6f-93d0-4133-9821-aa203cab19b4', 'type': 'CHARACTERISTIC', 'name': 'S/PELE'}, {'id': '8698c4d4-a77a-4f09-8ab0-debbfd529841', 'type': 'CHARACTERISTIC', 'name': 'C/OSSO'}, {'id': 'a7707810-d0f4-4679-bb32-7e01b6c49152', 'type': 'CHARACTERISTIC', 'name': 'TP'}, {'id': 'bc8c82a5-2ab0-4fc1-8e5b-9b11a03998f1', 'type': 'CHARACTERISTIC', 'name': 'IQF'}, {'id': 'c89489dd-015c-42fd-8614-8886a8570c15', 'type': 'CHARACTERISTIC', 'name': 'BANDEJA'}, {'id': 'd06b3301-d5a8-445a-8006-93376d52d2ee', 'type': 'CHARACTERISTIC', 'name': 'BLOCO'}]}\n"
     ]
    }
   ],
   "source": [
    "print(pesquisar_produtos([\"sobrecoxa\"]))"
   ]
  },
  {
   "cell_type": "code",
   "execution_count": 116,
   "id": "02237544-9c0f-49b3-97a1-b482d3417d12",
   "metadata": {},
   "outputs": [],
   "source": [
    "@tool\n",
    "def tool_pesquisa_produto(lista_produtos: List[str]):\n",
    "    \"\"\"\n",
    "    Útil para pesquisar informações, preços ou disponibilidade de produtos.\n",
    "\n",
    "    Args:\n",
    "    - lista_produtos: Lista de produtos para pesquisar. Ex: [\"batata doce\", \"miolo de alcatra\"]\n",
    "\n",
    "    Exemplos:\n",
    "    - qual o preço do miolo de alcatra e da batata doce?\n",
    "    - quanto custa a picanha e a costela bovina?\n",
    "    \"\"\"\n",
    "    print(\"\\n***\\n\")\n",
    "    print(lista_produtos)\n",
    "    print(\"\\n***\\n\")\n",
    "    resultado = pesquisar_produtos(lista_produtos)\n",
    "    print(\"\\n***\\n\")\n",
    "    return resultado\n",
    "    print(\"\\n***\\n\")"
   ]
  },
  {
   "cell_type": "code",
   "execution_count": 117,
   "id": "5d137cd5-3f95-46a4-9ea3-554ea18c26a7",
   "metadata": {},
   "outputs": [],
   "source": [
    "pergunta = \"qual o preço do lombinho e da lasanha de presunto e queijo?\""
   ]
  },
  {
   "cell_type": "code",
   "execution_count": 118,
   "id": "1f903345-cfb8-4f0a-9bc0-f056fad054c9",
   "metadata": {},
   "outputs": [],
   "source": [
    "tools = []\n",
    "tools.append(tool_pesquisa_produto)\n",
    "tool_node = ToolNode(tools)"
   ]
  },
  {
   "cell_type": "code",
   "execution_count": 119,
   "id": "042f4c69-646a-40c5-97ca-43f39db25d05",
   "metadata": {},
   "outputs": [],
   "source": [
    "llm = ChatOpenAI(model=OPENAI_MODEL,\n",
    "                 api_key=OPENAI_API_KEY,\n",
    "                 temperature=0.7,\n",
    "                 verbose=True)"
   ]
  },
  {
   "cell_type": "code",
   "execution_count": 120,
   "id": "5d43aac1-1ce6-454e-b135-3196d71472c5",
   "metadata": {},
   "outputs": [],
   "source": [
    "llm_with_tools = llm.bind_tools(tools, parallel_tool_calls=False)"
   ]
  },
  {
   "cell_type": "code",
   "execution_count": 121,
   "id": "28cca53e-dfc2-433f-892e-4e8dc2910255",
   "metadata": {},
   "outputs": [],
   "source": [
    "prompt_str = dedent(\"\"\"\n",
    "Responda a pergunta abaixo APENAS com base nas ferramentas e no contexto fornecido.\n",
    "Em hipótese alguma consulte sua base de conhecimento.\n",
    "Se você não tiver dados suficientes no contexto, diga: não sei responder.\n",
    "\n",
    "Solicitação do cliente:\n",
    "{input}\n",
    "\"\"\")"
   ]
  },
  {
   "cell_type": "code",
   "execution_count": 122,
   "id": "b6e5ef99-e616-4a7d-87fa-3311d310692a",
   "metadata": {},
   "outputs": [],
   "source": [
    "assistant_prompt = ChatPromptTemplate.from_messages(\n",
    "        [\n",
    "            (\"system\", prompt_str),\n",
    "            (\"human\", \"{input}\"),\n",
    "            (\"placeholder\", \"{messages}\"),\n",
    "        ]\n",
    "    )\n",
    "model = assistant_prompt | llm_with_tools"
   ]
  },
  {
   "cell_type": "code",
   "execution_count": 123,
   "id": "6a2ec281-ffb5-4f0f-8a29-edd448b09d2a",
   "metadata": {},
   "outputs": [],
   "source": [
    "contexto = {\n",
    "    \"messages\": [HumanMessage(content=pergunta)],\n",
    "    \"input\": pergunta\n",
    "}"
   ]
  },
  {
   "cell_type": "code",
   "execution_count": 124,
   "id": "bb418293-b2e1-443d-9dac-ff94c0afcc5b",
   "metadata": {},
   "outputs": [],
   "source": [
    "class Assistant:\n",
    "    def __init__(self, runnable: Runnable):\n",
    "        # Initialize with the runnable that defines the process for interacting with the tools\n",
    "        self.runnable = runnable\n",
    "\n",
    "    def __call__(self, state: MessagesState):\n",
    "        while True:\n",
    "            messages = state[\"messages\"]\n",
    "            last_message = messages[-1]\n",
    "            result = self.runnable.invoke(messages)\n",
    "            \n",
    "            if not result.tool_calls and (\n",
    "                not result.content\n",
    "                or isinstance(result.content, list)\n",
    "                and not result.content[0].get(\"text\")\n",
    "            ):\n",
    "                messages = state[\"messages\"] + [(\"user\", \"Respond with a real output.\")]\n",
    "                state = {**state, \"messages\": messages}\n",
    "            else:\n",
    "                break\n",
    "        return {\"messages\": [result]}"
   ]
  },
  {
   "cell_type": "code",
   "execution_count": 126,
   "id": "ebe33289-392b-484c-8802-37350783418e",
   "metadata": {},
   "outputs": [
    {
     "data": {
      "text/plain": [
       "<langgraph.graph.state.StateGraph at 0x1f99a0f0180>"
      ]
     },
     "execution_count": 126,
     "metadata": {},
     "output_type": "execute_result"
    }
   ],
   "source": [
    "builder = StateGraph(MessagesState)\n",
    "builder.add_node(\"assistant\", Assistant(model))\n",
    "builder.add_node(\"tools\", tool_node)\n",
    "builder.add_edge(START, \"assistant\")\n",
    "builder.add_conditional_edges(\"assistant\", tools_condition)"
   ]
  },
  {
   "cell_type": "code",
   "execution_count": 127,
   "id": "f767cba5-15da-41fc-91a5-3cf635c468c2",
   "metadata": {},
   "outputs": [],
   "source": [
    "memory = MemorySaver()\n",
    "graph = builder.compile(checkpointer=memory)"
   ]
  },
  {
   "cell_type": "code",
   "execution_count": 128,
   "id": "ae69880a-9cc6-40ef-8436-a012aa6cc830",
   "metadata": {},
   "outputs": [],
   "source": [
    "config = {\"configurable\": {\"thread_id\": \"1\"}}"
   ]
  },
  {
   "cell_type": "code",
   "execution_count": 129,
   "id": "06b601f6-ffca-4b23-a68d-a0520da4df6c",
   "metadata": {},
   "outputs": [
    {
     "name": "stdout",
     "output_type": "stream",
     "text": [
      "\u001b[36;1m\u001b[1;3m[-1:checkpoint]\u001b[0m \u001b[1mState at the end of step -1:\n",
      "\u001b[0m{'messages': []}\n",
      "\u001b[36;1m\u001b[1;3m[0:tasks]\u001b[0m \u001b[1mStarting 1 task for step 0:\n",
      "\u001b[0m- \u001b[32;1m\u001b[1;3m__start__\u001b[0m -> {'input': 'qual o preço do lombinho e da lasanha de presunto e queijo?',\n",
      " 'messages': [HumanMessage(content='qual o preço do lombinho e da lasanha de presunto e queijo?', additional_kwargs={}, response_metadata={})]}\n",
      "\u001b[36;1m\u001b[1;3m[0:writes]\u001b[0m \u001b[1mFinished step 0 with writes to 1 channel:\n",
      "\u001b[0m- \u001b[33;1m\u001b[1;3mmessages\u001b[0m -> [HumanMessage(content='qual o preço do lombinho e da lasanha de presunto e queijo?', additional_kwargs={}, response_metadata={})]\n",
      "\u001b[36;1m\u001b[1;3m[0:checkpoint]\u001b[0m \u001b[1mState at the end of step 0:\n",
      "\u001b[0m{'messages': [HumanMessage(content='qual o preço do lombinho e da lasanha de presunto e queijo?', additional_kwargs={}, response_metadata={}, id='9d83bdbf-744a-47b0-94f0-dd0bd52eb643')]}\n",
      "\u001b[36;1m\u001b[1;3m[1:tasks]\u001b[0m \u001b[1mStarting 1 task for step 1:\n",
      "\u001b[0m- \u001b[32;1m\u001b[1;3massistant\u001b[0m -> {'messages': [HumanMessage(content='qual o preço do lombinho e da lasanha de presunto e queijo?', additional_kwargs={}, response_metadata={}, id='9d83bdbf-744a-47b0-94f0-dd0bd52eb643')]}\n",
      "\u001b[36;1m\u001b[1;3m[1:writes]\u001b[0m \u001b[1mFinished step 1 with writes to 1 channel:\n",
      "\u001b[0m- \u001b[33;1m\u001b[1;3mmessages\u001b[0m -> [AIMessage(content='', additional_kwargs={'tool_calls': [{'id': 'call_AfczoXRwxqbBWyX1uaau1R4K', 'function': {'arguments': '{\"lista_produtos\":[\"lombinho\",\"lasanha de presunto e queijo\"]}', 'name': 'tool_pesquisa_produto'}, 'type': 'function'}], 'refusal': None}, response_metadata={'token_usage': {'completion_tokens': 32, 'prompt_tokens': 276, 'total_tokens': 308, 'completion_tokens_details': {'accepted_prediction_tokens': 0, 'audio_tokens': 0, 'reasoning_tokens': 0, 'rejected_prediction_tokens': 0}, 'prompt_tokens_details': {'audio_tokens': 0, 'cached_tokens': 0}}, 'model_name': 'gpt-4o-mini-2024-07-18', 'system_fingerprint': 'fp_f2cd28694a', 'finish_reason': 'tool_calls', 'logprobs': None}, id='run-7e97d33d-3684-4a2a-a812-406e864aa495-0', tool_calls=[{'name': 'tool_pesquisa_produto', 'args': {'lista_produtos': ['lombinho', 'lasanha de presunto e queijo']}, 'id': 'call_AfczoXRwxqbBWyX1uaau1R4K', 'type': 'tool_call'}], usage_metadata={'input_tokens': 276, 'output_tokens': 32, 'total_tokens': 308, 'input_token_details': {'audio': 0, 'cache_read': 0}, 'output_token_details': {'audio': 0, 'reasoning': 0}})]\n",
      "\u001b[36;1m\u001b[1;3m[1:checkpoint]\u001b[0m \u001b[1mState at the end of step 1:\n",
      "\u001b[0m{'messages': [HumanMessage(content='qual o preço do lombinho e da lasanha de presunto e queijo?', additional_kwargs={}, response_metadata={}, id='9d83bdbf-744a-47b0-94f0-dd0bd52eb643'),\n",
      "              AIMessage(content='', additional_kwargs={'tool_calls': [{'id': 'call_AfczoXRwxqbBWyX1uaau1R4K', 'function': {'arguments': '{\"lista_produtos\":[\"lombinho\",\"lasanha de presunto e queijo\"]}', 'name': 'tool_pesquisa_produto'}, 'type': 'function'}], 'refusal': None}, response_metadata={'token_usage': {'completion_tokens': 32, 'prompt_tokens': 276, 'total_tokens': 308, 'completion_tokens_details': {'accepted_prediction_tokens': 0, 'audio_tokens': 0, 'reasoning_tokens': 0, 'rejected_prediction_tokens': 0}, 'prompt_tokens_details': {'audio_tokens': 0, 'cached_tokens': 0}}, 'model_name': 'gpt-4o-mini-2024-07-18', 'system_fingerprint': 'fp_f2cd28694a', 'finish_reason': 'tool_calls', 'logprobs': None}, id='run-7e97d33d-3684-4a2a-a812-406e864aa495-0', tool_calls=[{'name': 'tool_pesquisa_produto', 'args': {'lista_produtos': ['lombinho', 'lasanha de presunto e queijo']}, 'id': 'call_AfczoXRwxqbBWyX1uaau1R4K', 'type': 'tool_call'}], usage_metadata={'input_tokens': 276, 'output_tokens': 32, 'total_tokens': 308, 'input_token_details': {'audio': 0, 'cache_read': 0}, 'output_token_details': {'audio': 0, 'reasoning': 0}})]}\n",
      "\u001b[36;1m\u001b[1;3m[2:tasks]\u001b[0m \u001b[1mStarting 1 task for step 2:\n",
      "\u001b[0m- \u001b[32;1m\u001b[1;3mtools\u001b[0m -> {'messages': [HumanMessage(content='qual o preço do lombinho e da lasanha de presunto e queijo?', additional_kwargs={}, response_metadata={}, id='9d83bdbf-744a-47b0-94f0-dd0bd52eb643'),\n",
      "              AIMessage(content='', additional_kwargs={'tool_calls': [{'id': 'call_AfczoXRwxqbBWyX1uaau1R4K', 'function': {'arguments': '{\"lista_produtos\":[\"lombinho\",\"lasanha de presunto e queijo\"]}', 'name': 'tool_pesquisa_produto'}, 'type': 'function'}], 'refusal': None}, response_metadata={'token_usage': {'completion_tokens': 32, 'prompt_tokens': 276, 'total_tokens': 308, 'completion_tokens_details': {'accepted_prediction_tokens': 0, 'audio_tokens': 0, 'reasoning_tokens': 0, 'rejected_prediction_tokens': 0}, 'prompt_tokens_details': {'audio_tokens': 0, 'cached_tokens': 0}}, 'model_name': 'gpt-4o-mini-2024-07-18', 'system_fingerprint': 'fp_f2cd28694a', 'finish_reason': 'tool_calls', 'logprobs': None}, id='run-7e97d33d-3684-4a2a-a812-406e864aa495-0', tool_calls=[{'name': 'tool_pesquisa_produto', 'args': {'lista_produtos': ['lombinho', 'lasanha de presunto e queijo']}, 'id': 'call_AfczoXRwxqbBWyX1uaau1R4K', 'type': 'tool_call'}], usage_metadata={'input_tokens': 276, 'output_tokens': 32, 'total_tokens': 308, 'input_token_details': {'audio': 0, 'cache_read': 0}, 'output_token_details': {'audio': 0, 'reasoning': 0}})]}\n",
      "\n",
      "***\n",
      "\n",
      "['lombinho', 'lasanha de presunto e queijo']\n",
      "\n",
      "***\n",
      "\n",
      "\n",
      "***\n",
      "\n",
      "\u001b[36;1m\u001b[1;3m[2:writes]\u001b[0m \u001b[1mFinished step 2 with writes to 1 channel:\n",
      "\u001b[0m- \u001b[33;1m\u001b[1;3mmessages\u001b[0m -> [ToolMessage(content='{\"page\": {\"page\": 0, \"items\": [{\"product\": {\"id\": \"3a174061-eae6-4a12-b78a-c6b84642c0d8\", \"code\": \"100885\", \"skuEcommerce\": null, \"family\": {\"id\": \"27382734-9ca5-4865-a949-a260eb0628f5\", \"type\": \"FAMILY\", \"name\": \"LOMBINHO BOVINO PEÇA +/- 200G EM BLOCO CONGELADO\"}, \"brand\": {\"id\": \"ef9385d6-9287-45b4-8d15-69f7d3973b16\", \"type\": \"BRAND\", \"name\": \"PANTANAL\"}, \"validity\": \"2025-12-07\", \"price\": {\"salesPrice\": 24.38, \"price\": 24.38, \"promotions\": []}, \"available\": null, \"deleted\": false, \"medias\": [\"https://segalas-ecommerce-medias.s3.sa-east-1.amazonaws.com/produtos/100885.jpg\"], \"characteristics\": [\"CONGELADO\"], \"packages\": [{\"id\": \"68eac6eb-f9d5-49db-9a11-382dab96e960\", \"description\": \"CX +-25KG\", \"label\": \"1x25Kg\", \"weight\": 25.0, \"unities\": 1.0, \"salesUnitMultiplier\": 25.0, \"packageType\": \"BOX\", \"deleted\": false}], \"salesUnit\": \"KG\", \"isFefo\": false}, \"canDelete\": null, \"hasHistoric\": true, \"favorite\": false, \"lastOrder\": {\"date\": \"2024-08-26\", \"packaging\": \"CX +-25KG\", \"quantity\": 9.0, \"unitType\": \"BOX\"}, \"cartItem\": null, \"customerProductSection\": null, \"selectedPackageId\": \"68eac6eb-f9d5-49db-9a11-382dab96e960\", \"suggestedQuantity\": 1.0, \"unit\": null, \"quantity\": 0.0}, {\"product\": {\"id\": \"51286e36-c238-48e5-adf6-7f1633c287f1\", \"code\": \"94651\", \"skuEcommerce\": null, \"family\": {\"id\": \"27382734-9ca5-4865-a949-a260eb0628f5\", \"type\": \"FAMILY\", \"name\": \"LOMBINHO BOVINO PEÇA +/- 200G EM BLOCO CONGELADO\"}, \"brand\": {\"id\": \"bc9abe50-87b1-4cbc-81da-ec02d94975af\", \"type\": \"BRAND\", \"name\": \"FRIBOI\"}, \"validity\": \"2025-11-06\", \"price\": {\"salesPrice\": 24.54, \"price\": 24.54, \"promotions\": []}, \"available\": null, \"deleted\": false, \"medias\": [\"https://segalas-ecommerce-medias.s3.sa-east-1.amazonaws.com/produtos/94651.jpg\"], \"characteristics\": [\"CONGELADO\"], \"packages\": [{\"id\": \"e370ee59-26a1-4b2b-bc34-3a685ce1504c\", \"description\": \"CX +-25KG\", \"label\": \"1x25Kg\", \"weight\": 25.0, \"unities\": 1.0, \"salesUnitMultiplier\": 25.0, \"packageType\": \"BOX\", \"deleted\": false}], \"salesUnit\": \"KG\", \"isFefo\": false}, \"canDelete\": null, \"hasHistoric\": true, \"favorite\": false, \"lastOrder\": {\"date\": \"2024-08-19\", \"packaging\": \"CX +-25KG\", \"quantity\": 3.0, \"unitType\": \"BOX\"}, \"cartItem\": null, \"customerProductSection\": null, \"selectedPackageId\": \"e370ee59-26a1-4b2b-bc34-3a685ce1504c\", \"suggestedQuantity\": 1.0, \"unit\": null, \"quantity\": 0.0}, {\"product\": {\"id\": \"1d0313e4-e98d-4fde-875f-ae3277d348b1\", \"code\": \"106323\", \"skuEcommerce\": null, \"family\": {\"id\": \"27382734-9ca5-4865-a949-a260eb0628f5\", \"type\": \"FAMILY\", \"name\": \"LOMBINHO BOVINO PEÇA +/- 200G EM BLOCO CONGELADO\"}, \"brand\": {\"id\": \"ae2ea97b-14dc-44ea-a33f-901bf36f4865\", \"type\": \"BRAND\", \"name\": \"SUPREMO\"}, \"validity\": \"2025-12-01\", \"price\": {\"salesPrice\": 24.39, \"price\": 24.39, \"promotions\": []}, \"available\": null, \"deleted\": false, \"medias\": [\"https://segalas-ecommerce-medias.s3.sa-east-1.amazonaws.com/produtos/106323.jpg\"], \"characteristics\": [\"CONGELADO\"], \"packages\": [{\"id\": \"d360713c-3266-49bb-889d-dfec0b6cdbb6\", \"description\": \"CX +-27KG\", \"label\": \"1x27Kg\", \"weight\": 27.0, \"unities\": 1.0, \"salesUnitMultiplier\": 27.0, \"packageType\": \"BOX\", \"deleted\": false}], \"salesUnit\": \"KG\", \"isFefo\": false}, \"canDelete\": null, \"hasHistoric\": true, \"favorite\": false, \"lastOrder\": {\"date\": \"2024-07-15\", \"packaging\": \"CX +-27KG\", \"quantity\": 3.0, \"unitType\": \"BOX\"}, \"cartItem\": null, \"customerProductSection\": null, \"selectedPackageId\": \"d360713c-3266-49bb-889d-dfec0b6cdbb6\", \"suggestedQuantity\": 1.0, \"unit\": null, \"quantity\": 0.0}], \"totalElements\": 3, \"totalPages\": 1, \"lastPage\": true}, \"filters\": [{\"id\": \"6760c95d-fc37-4529-bcde-7edb574662fb\", \"type\": \"CHARACTERISTIC\", \"name\": \"INTEIRO\"}, {\"id\": \"70226f8c-337e-4e71-93f0-fcb568667f98\", \"type\": \"CHARACTERISTIC\", \"name\": \"CONGELADO\"}, {\"id\": \"781e78e2-43cf-4559-8e39-e930765dbc85\", \"type\": \"CHARACTERISTIC\", \"name\": \"PACOTE\"}]}', name='tool_pesquisa_produto', tool_call_id='call_AfczoXRwxqbBWyX1uaau1R4K')]\n",
      "\u001b[36;1m\u001b[1;3m[2:checkpoint]\u001b[0m \u001b[1mState at the end of step 2:\n",
      "\u001b[0m{'messages': [HumanMessage(content='qual o preço do lombinho e da lasanha de presunto e queijo?', additional_kwargs={}, response_metadata={}, id='9d83bdbf-744a-47b0-94f0-dd0bd52eb643'),\n",
      "              AIMessage(content='', additional_kwargs={'tool_calls': [{'id': 'call_AfczoXRwxqbBWyX1uaau1R4K', 'function': {'arguments': '{\"lista_produtos\":[\"lombinho\",\"lasanha de presunto e queijo\"]}', 'name': 'tool_pesquisa_produto'}, 'type': 'function'}], 'refusal': None}, response_metadata={'token_usage': {'completion_tokens': 32, 'prompt_tokens': 276, 'total_tokens': 308, 'completion_tokens_details': {'accepted_prediction_tokens': 0, 'audio_tokens': 0, 'reasoning_tokens': 0, 'rejected_prediction_tokens': 0}, 'prompt_tokens_details': {'audio_tokens': 0, 'cached_tokens': 0}}, 'model_name': 'gpt-4o-mini-2024-07-18', 'system_fingerprint': 'fp_f2cd28694a', 'finish_reason': 'tool_calls', 'logprobs': None}, id='run-7e97d33d-3684-4a2a-a812-406e864aa495-0', tool_calls=[{'name': 'tool_pesquisa_produto', 'args': {'lista_produtos': ['lombinho', 'lasanha de presunto e queijo']}, 'id': 'call_AfczoXRwxqbBWyX1uaau1R4K', 'type': 'tool_call'}], usage_metadata={'input_tokens': 276, 'output_tokens': 32, 'total_tokens': 308, 'input_token_details': {'audio': 0, 'cache_read': 0}, 'output_token_details': {'audio': 0, 'reasoning': 0}}),\n",
      "              ToolMessage(content='{\"page\": {\"page\": 0, \"items\": [{\"product\": {\"id\": \"3a174061-eae6-4a12-b78a-c6b84642c0d8\", \"code\": \"100885\", \"skuEcommerce\": null, \"family\": {\"id\": \"27382734-9ca5-4865-a949-a260eb0628f5\", \"type\": \"FAMILY\", \"name\": \"LOMBINHO BOVINO PEÇA +/- 200G EM BLOCO CONGELADO\"}, \"brand\": {\"id\": \"ef9385d6-9287-45b4-8d15-69f7d3973b16\", \"type\": \"BRAND\", \"name\": \"PANTANAL\"}, \"validity\": \"2025-12-07\", \"price\": {\"salesPrice\": 24.38, \"price\": 24.38, \"promotions\": []}, \"available\": null, \"deleted\": false, \"medias\": [\"https://segalas-ecommerce-medias.s3.sa-east-1.amazonaws.com/produtos/100885.jpg\"], \"characteristics\": [\"CONGELADO\"], \"packages\": [{\"id\": \"68eac6eb-f9d5-49db-9a11-382dab96e960\", \"description\": \"CX +-25KG\", \"label\": \"1x25Kg\", \"weight\": 25.0, \"unities\": 1.0, \"salesUnitMultiplier\": 25.0, \"packageType\": \"BOX\", \"deleted\": false}], \"salesUnit\": \"KG\", \"isFefo\": false}, \"canDelete\": null, \"hasHistoric\": true, \"favorite\": false, \"lastOrder\": {\"date\": \"2024-08-26\", \"packaging\": \"CX +-25KG\", \"quantity\": 9.0, \"unitType\": \"BOX\"}, \"cartItem\": null, \"customerProductSection\": null, \"selectedPackageId\": \"68eac6eb-f9d5-49db-9a11-382dab96e960\", \"suggestedQuantity\": 1.0, \"unit\": null, \"quantity\": 0.0}, {\"product\": {\"id\": \"51286e36-c238-48e5-adf6-7f1633c287f1\", \"code\": \"94651\", \"skuEcommerce\": null, \"family\": {\"id\": \"27382734-9ca5-4865-a949-a260eb0628f5\", \"type\": \"FAMILY\", \"name\": \"LOMBINHO BOVINO PEÇA +/- 200G EM BLOCO CONGELADO\"}, \"brand\": {\"id\": \"bc9abe50-87b1-4cbc-81da-ec02d94975af\", \"type\": \"BRAND\", \"name\": \"FRIBOI\"}, \"validity\": \"2025-11-06\", \"price\": {\"salesPrice\": 24.54, \"price\": 24.54, \"promotions\": []}, \"available\": null, \"deleted\": false, \"medias\": [\"https://segalas-ecommerce-medias.s3.sa-east-1.amazonaws.com/produtos/94651.jpg\"], \"characteristics\": [\"CONGELADO\"], \"packages\": [{\"id\": \"e370ee59-26a1-4b2b-bc34-3a685ce1504c\", \"description\": \"CX +-25KG\", \"label\": \"1x25Kg\", \"weight\": 25.0, \"unities\": 1.0, \"salesUnitMultiplier\": 25.0, \"packageType\": \"BOX\", \"deleted\": false}], \"salesUnit\": \"KG\", \"isFefo\": false}, \"canDelete\": null, \"hasHistoric\": true, \"favorite\": false, \"lastOrder\": {\"date\": \"2024-08-19\", \"packaging\": \"CX +-25KG\", \"quantity\": 3.0, \"unitType\": \"BOX\"}, \"cartItem\": null, \"customerProductSection\": null, \"selectedPackageId\": \"e370ee59-26a1-4b2b-bc34-3a685ce1504c\", \"suggestedQuantity\": 1.0, \"unit\": null, \"quantity\": 0.0}, {\"product\": {\"id\": \"1d0313e4-e98d-4fde-875f-ae3277d348b1\", \"code\": \"106323\", \"skuEcommerce\": null, \"family\": {\"id\": \"27382734-9ca5-4865-a949-a260eb0628f5\", \"type\": \"FAMILY\", \"name\": \"LOMBINHO BOVINO PEÇA +/- 200G EM BLOCO CONGELADO\"}, \"brand\": {\"id\": \"ae2ea97b-14dc-44ea-a33f-901bf36f4865\", \"type\": \"BRAND\", \"name\": \"SUPREMO\"}, \"validity\": \"2025-12-01\", \"price\": {\"salesPrice\": 24.39, \"price\": 24.39, \"promotions\": []}, \"available\": null, \"deleted\": false, \"medias\": [\"https://segalas-ecommerce-medias.s3.sa-east-1.amazonaws.com/produtos/106323.jpg\"], \"characteristics\": [\"CONGELADO\"], \"packages\": [{\"id\": \"d360713c-3266-49bb-889d-dfec0b6cdbb6\", \"description\": \"CX +-27KG\", \"label\": \"1x27Kg\", \"weight\": 27.0, \"unities\": 1.0, \"salesUnitMultiplier\": 27.0, \"packageType\": \"BOX\", \"deleted\": false}], \"salesUnit\": \"KG\", \"isFefo\": false}, \"canDelete\": null, \"hasHistoric\": true, \"favorite\": false, \"lastOrder\": {\"date\": \"2024-07-15\", \"packaging\": \"CX +-27KG\", \"quantity\": 3.0, \"unitType\": \"BOX\"}, \"cartItem\": null, \"customerProductSection\": null, \"selectedPackageId\": \"d360713c-3266-49bb-889d-dfec0b6cdbb6\", \"suggestedQuantity\": 1.0, \"unit\": null, \"quantity\": 0.0}], \"totalElements\": 3, \"totalPages\": 1, \"lastPage\": true}, \"filters\": [{\"id\": \"6760c95d-fc37-4529-bcde-7edb574662fb\", \"type\": \"CHARACTERISTIC\", \"name\": \"INTEIRO\"}, {\"id\": \"70226f8c-337e-4e71-93f0-fcb568667f98\", \"type\": \"CHARACTERISTIC\", \"name\": \"CONGELADO\"}, {\"id\": \"781e78e2-43cf-4559-8e39-e930765dbc85\", \"type\": \"CHARACTERISTIC\", \"name\": \"PACOTE\"}]}', name='tool_pesquisa_produto', id='dbc33946-c090-4cb5-b951-54915ef4c97c', tool_call_id='call_AfczoXRwxqbBWyX1uaau1R4K')]}\n",
      "\n",
      "\n",
      "***\n",
      "\n",
      "\n",
      "{'messages': [HumanMessage(content='qual o preço do lombinho e da lasanha de presunto e queijo?', additional_kwargs={}, response_metadata={}, id='9d83bdbf-744a-47b0-94f0-dd0bd52eb643'), AIMessage(content='', additional_kwargs={'tool_calls': [{'id': 'call_AfczoXRwxqbBWyX1uaau1R4K', 'function': {'arguments': '{\"lista_produtos\":[\"lombinho\",\"lasanha de presunto e queijo\"]}', 'name': 'tool_pesquisa_produto'}, 'type': 'function'}], 'refusal': None}, response_metadata={'token_usage': {'completion_tokens': 32, 'prompt_tokens': 276, 'total_tokens': 308, 'completion_tokens_details': {'accepted_prediction_tokens': 0, 'audio_tokens': 0, 'reasoning_tokens': 0, 'rejected_prediction_tokens': 0}, 'prompt_tokens_details': {'audio_tokens': 0, 'cached_tokens': 0}}, 'model_name': 'gpt-4o-mini-2024-07-18', 'system_fingerprint': 'fp_f2cd28694a', 'finish_reason': 'tool_calls', 'logprobs': None}, id='run-7e97d33d-3684-4a2a-a812-406e864aa495-0', tool_calls=[{'name': 'tool_pesquisa_produto', 'args': {'lista_produtos': ['lombinho', 'lasanha de presunto e queijo']}, 'id': 'call_AfczoXRwxqbBWyX1uaau1R4K', 'type': 'tool_call'}], usage_metadata={'input_tokens': 276, 'output_tokens': 32, 'total_tokens': 308, 'input_token_details': {'audio': 0, 'cache_read': 0}, 'output_token_details': {'audio': 0, 'reasoning': 0}}), ToolMessage(content='{\"page\": {\"page\": 0, \"items\": [{\"product\": {\"id\": \"3a174061-eae6-4a12-b78a-c6b84642c0d8\", \"code\": \"100885\", \"skuEcommerce\": null, \"family\": {\"id\": \"27382734-9ca5-4865-a949-a260eb0628f5\", \"type\": \"FAMILY\", \"name\": \"LOMBINHO BOVINO PEÇA +/- 200G EM BLOCO CONGELADO\"}, \"brand\": {\"id\": \"ef9385d6-9287-45b4-8d15-69f7d3973b16\", \"type\": \"BRAND\", \"name\": \"PANTANAL\"}, \"validity\": \"2025-12-07\", \"price\": {\"salesPrice\": 24.38, \"price\": 24.38, \"promotions\": []}, \"available\": null, \"deleted\": false, \"medias\": [\"https://segalas-ecommerce-medias.s3.sa-east-1.amazonaws.com/produtos/100885.jpg\"], \"characteristics\": [\"CONGELADO\"], \"packages\": [{\"id\": \"68eac6eb-f9d5-49db-9a11-382dab96e960\", \"description\": \"CX +-25KG\", \"label\": \"1x25Kg\", \"weight\": 25.0, \"unities\": 1.0, \"salesUnitMultiplier\": 25.0, \"packageType\": \"BOX\", \"deleted\": false}], \"salesUnit\": \"KG\", \"isFefo\": false}, \"canDelete\": null, \"hasHistoric\": true, \"favorite\": false, \"lastOrder\": {\"date\": \"2024-08-26\", \"packaging\": \"CX +-25KG\", \"quantity\": 9.0, \"unitType\": \"BOX\"}, \"cartItem\": null, \"customerProductSection\": null, \"selectedPackageId\": \"68eac6eb-f9d5-49db-9a11-382dab96e960\", \"suggestedQuantity\": 1.0, \"unit\": null, \"quantity\": 0.0}, {\"product\": {\"id\": \"51286e36-c238-48e5-adf6-7f1633c287f1\", \"code\": \"94651\", \"skuEcommerce\": null, \"family\": {\"id\": \"27382734-9ca5-4865-a949-a260eb0628f5\", \"type\": \"FAMILY\", \"name\": \"LOMBINHO BOVINO PEÇA +/- 200G EM BLOCO CONGELADO\"}, \"brand\": {\"id\": \"bc9abe50-87b1-4cbc-81da-ec02d94975af\", \"type\": \"BRAND\", \"name\": \"FRIBOI\"}, \"validity\": \"2025-11-06\", \"price\": {\"salesPrice\": 24.54, \"price\": 24.54, \"promotions\": []}, \"available\": null, \"deleted\": false, \"medias\": [\"https://segalas-ecommerce-medias.s3.sa-east-1.amazonaws.com/produtos/94651.jpg\"], \"characteristics\": [\"CONGELADO\"], \"packages\": [{\"id\": \"e370ee59-26a1-4b2b-bc34-3a685ce1504c\", \"description\": \"CX +-25KG\", \"label\": \"1x25Kg\", \"weight\": 25.0, \"unities\": 1.0, \"salesUnitMultiplier\": 25.0, \"packageType\": \"BOX\", \"deleted\": false}], \"salesUnit\": \"KG\", \"isFefo\": false}, \"canDelete\": null, \"hasHistoric\": true, \"favorite\": false, \"lastOrder\": {\"date\": \"2024-08-19\", \"packaging\": \"CX +-25KG\", \"quantity\": 3.0, \"unitType\": \"BOX\"}, \"cartItem\": null, \"customerProductSection\": null, \"selectedPackageId\": \"e370ee59-26a1-4b2b-bc34-3a685ce1504c\", \"suggestedQuantity\": 1.0, \"unit\": null, \"quantity\": 0.0}, {\"product\": {\"id\": \"1d0313e4-e98d-4fde-875f-ae3277d348b1\", \"code\": \"106323\", \"skuEcommerce\": null, \"family\": {\"id\": \"27382734-9ca5-4865-a949-a260eb0628f5\", \"type\": \"FAMILY\", \"name\": \"LOMBINHO BOVINO PEÇA +/- 200G EM BLOCO CONGELADO\"}, \"brand\": {\"id\": \"ae2ea97b-14dc-44ea-a33f-901bf36f4865\", \"type\": \"BRAND\", \"name\": \"SUPREMO\"}, \"validity\": \"2025-12-01\", \"price\": {\"salesPrice\": 24.39, \"price\": 24.39, \"promotions\": []}, \"available\": null, \"deleted\": false, \"medias\": [\"https://segalas-ecommerce-medias.s3.sa-east-1.amazonaws.com/produtos/106323.jpg\"], \"characteristics\": [\"CONGELADO\"], \"packages\": [{\"id\": \"d360713c-3266-49bb-889d-dfec0b6cdbb6\", \"description\": \"CX +-27KG\", \"label\": \"1x27Kg\", \"weight\": 27.0, \"unities\": 1.0, \"salesUnitMultiplier\": 27.0, \"packageType\": \"BOX\", \"deleted\": false}], \"salesUnit\": \"KG\", \"isFefo\": false}, \"canDelete\": null, \"hasHistoric\": true, \"favorite\": false, \"lastOrder\": {\"date\": \"2024-07-15\", \"packaging\": \"CX +-27KG\", \"quantity\": 3.0, \"unitType\": \"BOX\"}, \"cartItem\": null, \"customerProductSection\": null, \"selectedPackageId\": \"d360713c-3266-49bb-889d-dfec0b6cdbb6\", \"suggestedQuantity\": 1.0, \"unit\": null, \"quantity\": 0.0}], \"totalElements\": 3, \"totalPages\": 1, \"lastPage\": true}, \"filters\": [{\"id\": \"6760c95d-fc37-4529-bcde-7edb574662fb\", \"type\": \"CHARACTERISTIC\", \"name\": \"INTEIRO\"}, {\"id\": \"70226f8c-337e-4e71-93f0-fcb568667f98\", \"type\": \"CHARACTERISTIC\", \"name\": \"CONGELADO\"}, {\"id\": \"781e78e2-43cf-4559-8e39-e930765dbc85\", \"type\": \"CHARACTERISTIC\", \"name\": \"PACOTE\"}]}', name='tool_pesquisa_produto', id='dbc33946-c090-4cb5-b951-54915ef4c97c', tool_call_id='call_AfczoXRwxqbBWyX1uaau1R4K')]}\n",
      "{\"page\": {\"page\": 0, \"items\": [{\"product\": {\"id\": \"3a174061-eae6-4a12-b78a-c6b84642c0d8\", \"code\": \"100885\", \"skuEcommerce\": null, \"family\": {\"id\": \"27382734-9ca5-4865-a949-a260eb0628f5\", \"type\": \"FAMILY\", \"name\": \"LOMBINHO BOVINO PEÇA +/- 200G EM BLOCO CONGELADO\"}, \"brand\": {\"id\": \"ef9385d6-9287-45b4-8d15-69f7d3973b16\", \"type\": \"BRAND\", \"name\": \"PANTANAL\"}, \"validity\": \"2025-12-07\", \"price\": {\"salesPrice\": 24.38, \"price\": 24.38, \"promotions\": []}, \"available\": null, \"deleted\": false, \"medias\": [\"https://segalas-ecommerce-medias.s3.sa-east-1.amazonaws.com/produtos/100885.jpg\"], \"characteristics\": [\"CONGELADO\"], \"packages\": [{\"id\": \"68eac6eb-f9d5-49db-9a11-382dab96e960\", \"description\": \"CX +-25KG\", \"label\": \"1x25Kg\", \"weight\": 25.0, \"unities\": 1.0, \"salesUnitMultiplier\": 25.0, \"packageType\": \"BOX\", \"deleted\": false}], \"salesUnit\": \"KG\", \"isFefo\": false}, \"canDelete\": null, \"hasHistoric\": true, \"favorite\": false, \"lastOrder\": {\"date\": \"2024-08-26\", \"packaging\": \"CX +-25KG\", \"quantity\": 9.0, \"unitType\": \"BOX\"}, \"cartItem\": null, \"customerProductSection\": null, \"selectedPackageId\": \"68eac6eb-f9d5-49db-9a11-382dab96e960\", \"suggestedQuantity\": 1.0, \"unit\": null, \"quantity\": 0.0}, {\"product\": {\"id\": \"51286e36-c238-48e5-adf6-7f1633c287f1\", \"code\": \"94651\", \"skuEcommerce\": null, \"family\": {\"id\": \"27382734-9ca5-4865-a949-a260eb0628f5\", \"type\": \"FAMILY\", \"name\": \"LOMBINHO BOVINO PEÇA +/- 200G EM BLOCO CONGELADO\"}, \"brand\": {\"id\": \"bc9abe50-87b1-4cbc-81da-ec02d94975af\", \"type\": \"BRAND\", \"name\": \"FRIBOI\"}, \"validity\": \"2025-11-06\", \"price\": {\"salesPrice\": 24.54, \"price\": 24.54, \"promotions\": []}, \"available\": null, \"deleted\": false, \"medias\": [\"https://segalas-ecommerce-medias.s3.sa-east-1.amazonaws.com/produtos/94651.jpg\"], \"characteristics\": [\"CONGELADO\"], \"packages\": [{\"id\": \"e370ee59-26a1-4b2b-bc34-3a685ce1504c\", \"description\": \"CX +-25KG\", \"label\": \"1x25Kg\", \"weight\": 25.0, \"unities\": 1.0, \"salesUnitMultiplier\": 25.0, \"packageType\": \"BOX\", \"deleted\": false}], \"salesUnit\": \"KG\", \"isFefo\": false}, \"canDelete\": null, \"hasHistoric\": true, \"favorite\": false, \"lastOrder\": {\"date\": \"2024-08-19\", \"packaging\": \"CX +-25KG\", \"quantity\": 3.0, \"unitType\": \"BOX\"}, \"cartItem\": null, \"customerProductSection\": null, \"selectedPackageId\": \"e370ee59-26a1-4b2b-bc34-3a685ce1504c\", \"suggestedQuantity\": 1.0, \"unit\": null, \"quantity\": 0.0}, {\"product\": {\"id\": \"1d0313e4-e98d-4fde-875f-ae3277d348b1\", \"code\": \"106323\", \"skuEcommerce\": null, \"family\": {\"id\": \"27382734-9ca5-4865-a949-a260eb0628f5\", \"type\": \"FAMILY\", \"name\": \"LOMBINHO BOVINO PEÇA +/- 200G EM BLOCO CONGELADO\"}, \"brand\": {\"id\": \"ae2ea97b-14dc-44ea-a33f-901bf36f4865\", \"type\": \"BRAND\", \"name\": \"SUPREMO\"}, \"validity\": \"2025-12-01\", \"price\": {\"salesPrice\": 24.39, \"price\": 24.39, \"promotions\": []}, \"available\": null, \"deleted\": false, \"medias\": [\"https://segalas-ecommerce-medias.s3.sa-east-1.amazonaws.com/produtos/106323.jpg\"], \"characteristics\": [\"CONGELADO\"], \"packages\": [{\"id\": \"d360713c-3266-49bb-889d-dfec0b6cdbb6\", \"description\": \"CX +-27KG\", \"label\": \"1x27Kg\", \"weight\": 27.0, \"unities\": 1.0, \"salesUnitMultiplier\": 27.0, \"packageType\": \"BOX\", \"deleted\": false}], \"salesUnit\": \"KG\", \"isFefo\": false}, \"canDelete\": null, \"hasHistoric\": true, \"favorite\": false, \"lastOrder\": {\"date\": \"2024-07-15\", \"packaging\": \"CX +-27KG\", \"quantity\": 3.0, \"unitType\": \"BOX\"}, \"cartItem\": null, \"customerProductSection\": null, \"selectedPackageId\": \"d360713c-3266-49bb-889d-dfec0b6cdbb6\", \"suggestedQuantity\": 1.0, \"unit\": null, \"quantity\": 0.0}], \"totalElements\": 3, \"totalPages\": 1, \"lastPage\": true}, \"filters\": [{\"id\": \"6760c95d-fc37-4529-bcde-7edb574662fb\", \"type\": \"CHARACTERISTIC\", \"name\": \"INTEIRO\"}, {\"id\": \"70226f8c-337e-4e71-93f0-fcb568667f98\", \"type\": \"CHARACTERISTIC\", \"name\": \"CONGELADO\"}, {\"id\": \"781e78e2-43cf-4559-8e39-e930765dbc85\", \"type\": \"CHARACTERISTIC\", \"name\": \"PACOTE\"}]}\n",
      "\n",
      "\n",
      "***\n",
      "\n",
      "\n"
     ]
    }
   ],
   "source": [
    "result = await graph.ainvoke(contexto, config, debug=True)\n",
    "answer = result[\"messages\"][-1].content\n",
    "print(\"\\n\\n***\\n\\n\")\n",
    "print(result)\n",
    "print(answer)\n",
    "print(\"\\n\\n***\\n\\n\")"
   ]
  },
  {
   "cell_type": "code",
   "execution_count": null,
   "id": "6b9b7582-60c8-4d24-adcb-434e54e84e63",
   "metadata": {},
   "outputs": [],
   "source": []
  },
  {
   "cell_type": "code",
   "execution_count": null,
   "id": "cbca3409-0ef6-482f-921d-4dce1e6e3c27",
   "metadata": {},
   "outputs": [],
   "source": []
  },
  {
   "cell_type": "code",
   "execution_count": null,
   "id": "c34d4ca3-b148-4219-b883-20b77b65dbe4",
   "metadata": {},
   "outputs": [],
   "source": []
  },
  {
   "cell_type": "code",
   "execution_count": null,
   "id": "4f55c768-0dc8-4a28-857a-e7e16f17755b",
   "metadata": {},
   "outputs": [],
   "source": []
  }
 ],
 "metadata": {
  "kernelspec": {
   "display_name": "Python 3 (ipykernel)",
   "language": "python",
   "name": "python3"
  },
  "language_info": {
   "codemirror_mode": {
    "name": "ipython",
    "version": 3
   },
   "file_extension": ".py",
   "mimetype": "text/x-python",
   "name": "python",
   "nbconvert_exporter": "python",
   "pygments_lexer": "ipython3",
   "version": "3.13.1"
  }
 },
 "nbformat": 4,
 "nbformat_minor": 5
}
